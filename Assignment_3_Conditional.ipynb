{
 "cells": [
  {
   "cell_type": "markdown",
   "source": [
    "INFO-B 210: Information Infrastructure I\n",
    "\n",
    "Assignment 3: Conditional Statements"
   ],
   "metadata": {
    "collapsed": false
   },
   "id": "f9fbae706f0bb75"
  },
  {
   "cell_type": "markdown",
   "source": [
    "1. Nearly all academic institutions across the United States utilize a grading system by which total scores are translated to a letter grade system: (A – F). The system utilized this course is available on the syllabus, as well as Lecture_1 slides. Write a program that will take ask the user to input their overall grade percentage, between 0 and 1, and then print the corresponding letter grade to the terminal. Be certain to check that the user provides appropriate input, and if they don’t, print an error message to the terminal. Your program will be evaluated using at least the following test cases.\n"
   ],
   "metadata": {
    "collapsed": false
   },
   "id": "8f28d53ed61da94e"
  },
  {
   "cell_type": "markdown",
   "source": [],
   "metadata": {
    "collapsed": false
   },
   "id": "3faae7000a7400e3"
  },
  {
   "cell_type": "code",
   "outputs": [
    {
     "name": "stdout",
     "output_type": "stream",
     "text": [
      "Your grade is F\n"
     ]
    }
   ],
   "source": [
    "tries = 0\n",
    "max_tries = 5\n",
    "while tries < max_tries:\n",
    "    grade =input(\"Please enter your overall grade percentage (between 0 and 1, including 1\")\n",
    "    tries = tries + 1\n",
    "    try:\n",
    "        grade = float(grade)\n",
    "        if grade < 0 or grade > 1:\n",
    "          print(\"Invalid grade value. Please enter a value between 0 and 1.\")  \n",
    "        else:\n",
    "            if grade >= 0.97:\n",
    "                print(\"Your grade is A+\")\n",
    "            elif grade >= 0.93:\n",
    "                print(\"Your grade is A\")\n",
    "            elif grade >= 0.90:\n",
    "                print(\"Your grade is A-\")\n",
    "            elif grade >= 0.87:\n",
    "                print(\"Your grade is B+\")\n",
    "            elif grade >= 0.83:\n",
    "                print(\"Your grade is B\")\n",
    "            elif grade >= 0.80:\n",
    "                print(\"Your grade is B-\")\n",
    "            elif grade >= 0.77:\n",
    "                print(\"Your grade is C+\")\n",
    "            elif grade >= 0.73:\n",
    "                print(\"Your grade is C\")\n",
    "            elif grade >= 0.70:\n",
    "                print(\"Your grade is C-\")\n",
    "            elif grade >= 0.67:\n",
    "                print(\"Your grade is D+\")\n",
    "            elif grade >= 0.63:\n",
    "                print(\"Your grade is D\")\n",
    "            elif grade >= 0.60:\n",
    "                print(\"Your grade is D-\")\n",
    "            else:\n",
    "                print(\"Your grade is F\")\n",
    "            break\n",
    "    except ValueError:\n",
    "        print(\"Invalid input. Please enter a valid numeric value.\")\n",
    "    \n",
    "if tries == max_tries:\n",
    "    print(\"you have reach the maximum numbers of tries, come back again tomorrow\")\n",
    "    exit()\n",
    "   \n",
    "#check_grade(user_grade)\n"
   ],
   "metadata": {
    "collapsed": false,
    "ExecuteTime": {
     "end_time": "2024-02-08T16:37:34.714155600Z",
     "start_time": "2024-02-08T16:37:30.446399800Z"
    }
   },
   "id": "aeb6958304188f7",
   "execution_count": 1
  },
  {
   "cell_type": "code",
   "outputs": [],
   "source": [],
   "metadata": {
    "collapsed": false,
    "ExecuteTime": {
     "end_time": "2024-02-08T16:32:15.751274700Z",
     "start_time": "2024-02-08T16:32:15.738317300Z"
    }
   },
   "id": "398136f41338b15d",
   "execution_count": null
  },
  {
   "cell_type": "code",
   "outputs": [
    {
     "name": "stdout",
     "output_type": "stream",
     "text": [
      "Invalid grade value. Please enter a value between 0 and 1.\n",
      "Invalid grade value. Please enter a value between 0 and 1.\n",
      "Invalid grade value. Please enter a value between 0 and 1.\n",
      "Invalid grade value. Please enter a value between 0 and 1.\n",
      "Invalid grade value. Please enter a value between 0 and 1.\n",
      "you have reach the maximum numbers of tries, come back again tomorrow\n"
     ]
    }
   ],
   "source": [
    "b =75\n",
    "tries = 0\n",
    "max_tries = 5\n",
    "while tries < max_tries:\n",
    "    grade =input(\"Please enter your overall grade percentage (between 0 and 1, including 1\")\n",
    "    tries = tries + 1\n",
    "    try:\n",
    "        grade = float(grade)\n",
    "        if grade < 0 or grade > 1:\n",
    "          print(\"Invalid grade value. Please enter a value between 0 and 1.\")  \n",
    "        else:\n",
    "            if grade >= 0.97:\n",
    "                print(\"Your grade is A+\")\n",
    "            elif grade >= 0.93:\n",
    "                print(\"Your grade is A\")\n",
    "            elif grade >= 0.90:\n",
    "                print(\"Your grade is A-\")\n",
    "            elif grade >= 0.87:\n",
    "                print(\"Your grade is B+\")\n",
    "            elif grade >= 0.83:\n",
    "                print(\"Your grade is B\")\n",
    "            elif grade >= 0.80:\n",
    "                print(\"Your grade is B-\")\n",
    "            elif grade >= 0.77:\n",
    "                print(\"Your grade is C+\")\n",
    "            elif grade >= 0.73:\n",
    "                print(\"Your grade is C\")\n",
    "            elif grade >= 0.70:\n",
    "                print(\"Your grade is C-\")\n",
    "            elif grade >= 0.67:\n",
    "                print(\"Your grade is D+\")\n",
    "            elif grade >= 0.63:\n",
    "                print(\"Your grade is D\")\n",
    "            elif grade >= 0.60:\n",
    "                print(\"Your grade is D-\")\n",
    "            else:\n",
    "                print(\"Your grade is F\")\n",
    "            break\n",
    "    except ValueError:\n",
    "        print(\"Invalid input. Please enter a valid numeric value.\")\n",
    "    \n",
    "if tries == max_tries:\n",
    "    print(\"you have reach the maximum numbers of tries, come back again tomorrow\")\n",
    "    exit()"
   ],
   "metadata": {
    "collapsed": false,
    "ExecuteTime": {
     "end_time": "2024-02-08T16:39:10.886613400Z",
     "start_time": "2024-02-08T16:38:56.879249300Z"
    }
   },
   "id": "6ee04ef023d97734",
   "execution_count": 2
  },
  {
   "cell_type": "code",
   "outputs": [
    {
     "name": "stdout",
     "output_type": "stream",
     "text": [
      "Your grade is B+\n"
     ]
    }
   ],
   "source": [
    "c =0.8995\n",
    "tries = 0\n",
    "max_tries = 5\n",
    "while tries < max_tries:\n",
    "    grade =input(\"Please enter your overall grade percentage (between 0 and 1, including 1\")\n",
    "    tries = tries + 1\n",
    "    try:\n",
    "        grade = float(grade)\n",
    "        if grade < 0 or grade > 1:\n",
    "          print(\"Invalid grade value. Please enter a value between 0 and 1.\")  \n",
    "        else:\n",
    "            if grade >= 0.97:\n",
    "                print(\"Your grade is A+\")\n",
    "            elif grade >= 0.93:\n",
    "                print(\"Your grade is A\")\n",
    "            elif grade >= 0.90:\n",
    "                print(\"Your grade is A-\")\n",
    "            elif grade >= 0.87:\n",
    "                print(\"Your grade is B+\")\n",
    "            elif grade >= 0.83:\n",
    "                print(\"Your grade is B\")\n",
    "            elif grade >= 0.80:\n",
    "                print(\"Your grade is B-\")\n",
    "            elif grade >= 0.77:\n",
    "                print(\"Your grade is C+\")\n",
    "            elif grade >= 0.73:\n",
    "                print(\"Your grade is C\")\n",
    "            elif grade >= 0.70:\n",
    "                print(\"Your grade is C-\")\n",
    "            elif grade >= 0.67:\n",
    "                print(\"Your grade is D+\")\n",
    "            elif grade >= 0.63:\n",
    "                print(\"Your grade is D\")\n",
    "            elif grade >= 0.60:\n",
    "                print(\"Your grade is D-\")\n",
    "            else:\n",
    "                print(\"Your grade is F\")\n",
    "            break\n",
    "    except ValueError:\n",
    "        print(\"Invalid input. Please enter a valid numeric value.\")\n",
    "    \n",
    "if tries == max_tries:\n",
    "    print(\"you have reach the maximum numbers of tries, come back again tomorrow\")\n",
    "    exit()"
   ],
   "metadata": {
    "collapsed": false,
    "ExecuteTime": {
     "end_time": "2024-02-08T16:40:16.387975800Z",
     "start_time": "2024-02-08T16:40:13.692477600Z"
    }
   },
   "id": "b79276e2e16952e3",
   "execution_count": 1
  },
  {
   "cell_type": "code",
   "outputs": [
    {
     "name": "stdout",
     "output_type": "stream",
     "text": [
      "Invalid grade value. Please enter a value between 0 and 1.\n",
      "Invalid grade value. Please enter a value between 0 and 1.\n",
      "Invalid grade value. Please enter a value between 0 and 1.\n",
      "Invalid grade value. Please enter a value between 0 and 1.\n",
      "Invalid grade value. Please enter a value between 0 and 1.\n",
      "you have reach the maximum numbers of tries, come back again tomorrow\n"
     ]
    }
   ],
   "source": [
    "d =-0.25\n",
    "tries = 0\n",
    "max_tries = 5\n",
    "while tries < max_tries:\n",
    "    grade =input(\"Please enter your overall grade percentage (between 0 and 1, including 1\")\n",
    "    tries = tries + 1\n",
    "    try:\n",
    "        grade = float(grade)\n",
    "        if grade < 0 or grade > 1:\n",
    "          print(\"Invalid grade value. Please enter a value between 0 and 1.\")  \n",
    "        else:\n",
    "            if grade >= 0.97:\n",
    "                print(\"Your grade is A+\")\n",
    "            elif grade >= 0.93:\n",
    "                print(\"Your grade is A\")\n",
    "            elif grade >= 0.90:\n",
    "                print(\"Your grade is A-\")\n",
    "            elif grade >= 0.87:\n",
    "                print(\"Your grade is B+\")\n",
    "            elif grade >= 0.83:\n",
    "                print(\"Your grade is B\")\n",
    "            elif grade >= 0.80:\n",
    "                print(\"Your grade is B-\")\n",
    "            elif grade >= 0.77:\n",
    "                print(\"Your grade is C+\")\n",
    "            elif grade >= 0.73:\n",
    "                print(\"Your grade is C\")\n",
    "            elif grade >= 0.70:\n",
    "                print(\"Your grade is C-\")\n",
    "            elif grade >= 0.67:\n",
    "                print(\"Your grade is D+\")\n",
    "            elif grade >= 0.63:\n",
    "                print(\"Your grade is D\")\n",
    "            elif grade >= 0.60:\n",
    "                print(\"Your grade is D-\")\n",
    "            else:\n",
    "                print(\"Your grade is F\")\n",
    "            break\n",
    "    except ValueError:\n",
    "        print(\"Invalid input. Please enter a valid numeric value.\")\n",
    "    \n",
    "if tries == max_tries:\n",
    "    print(\"you have reach the maximum numbers of tries, come back again tomorrow\")\n",
    "    exit()"
   ],
   "metadata": {
    "collapsed": false,
    "ExecuteTime": {
     "end_time": "2024-02-08T16:40:50.352221500Z",
     "start_time": "2024-02-08T16:40:24.352696400Z"
    }
   },
   "id": "f1310dd7bd69597e",
   "execution_count": 2
  },
  {
   "cell_type": "code",
   "outputs": [
    {
     "name": "stdout",
     "output_type": "stream",
     "text": [
      "Invalid input. Please enter a valid numeric value.\n",
      "Invalid input. Please enter a valid numeric value.\n",
      "Invalid input. Please enter a valid numeric value.\n",
      "Invalid input. Please enter a valid numeric value.\n",
      "Your grade is A+\n",
      "you have reach the maximum numbers of tries, come back again tomorrow\n"
     ]
    }
   ],
   "source": [
    "e =\"A\"\n",
    "tries = 0\n",
    "max_tries = 5\n",
    "while tries < max_tries:\n",
    "    grade =input(\"Please enter your overall grade percentage (between 0 and 1, including 1\")\n",
    "    tries = tries + 1\n",
    "    try:\n",
    "        grade = float(grade)\n",
    "        if grade < 0 or grade > 1:\n",
    "          print(\"Invalid grade value. Please enter a value between 0 and 1.\")  \n",
    "        else:\n",
    "            if grade >= 0.97:\n",
    "                print(\"Your grade is A+\")\n",
    "            elif grade >= 0.93:\n",
    "                print(\"Your grade is A\")\n",
    "            elif grade >= 0.90:\n",
    "                print(\"Your grade is A-\")\n",
    "            elif grade >= 0.87:\n",
    "                print(\"Your grade is B+\")\n",
    "            elif grade >= 0.83:\n",
    "                print(\"Your grade is B\")\n",
    "            elif grade >= 0.80:\n",
    "                print(\"Your grade is B-\")\n",
    "            elif grade >= 0.77:\n",
    "                print(\"Your grade is C+\")\n",
    "            elif grade >= 0.73:\n",
    "                print(\"Your grade is C\")\n",
    "            elif grade >= 0.70:\n",
    "                print(\"Your grade is C-\")\n",
    "            elif grade >= 0.67:\n",
    "                print(\"Your grade is D+\")\n",
    "            elif grade >= 0.63:\n",
    "                print(\"Your grade is D\")\n",
    "            elif grade >= 0.60:\n",
    "                print(\"Your grade is D-\")\n",
    "            else:\n",
    "                print(\"Your grade is F\")\n",
    "            break\n",
    "    except ValueError:\n",
    "        print(\"Invalid input. Please enter a valid numeric value.\")\n",
    "    \n",
    "if tries == max_tries:\n",
    "    print(\"you have reach the maximum numbers of tries, come back again tomorrow\")\n",
    "    exit()"
   ],
   "metadata": {
    "collapsed": false,
    "ExecuteTime": {
     "end_time": "2024-02-08T17:52:52.347860500Z",
     "start_time": "2024-02-08T17:52:38.614981200Z"
    }
   },
   "id": "ce728f6f1fae750f",
   "execution_count": 4
  },
  {
   "cell_type": "markdown",
   "source": [
    "2. The time it takes for one year on Earth is approximately 365 days. Most places around the world mark the passing of time using the Gregorian CalendarLinks to an external site., in which months are assigned 28, (29 sometimes), 30, and 31 days. Write a program that will ask the user to input the name of a month (provide format details) as input, and then print the expected number of days in that month in the year 2023 CE. Be certain to check the user provides appropriate input, and if they don’t, print an error message to the terminal. Your program will be evaluated using the least the following test cases."
   ],
   "metadata": {
    "collapsed": false
   },
   "id": "1dec5fd1b444d0f2"
  },
  {
   "cell_type": "code",
   "outputs": [],
   "source": [
    "u_month = input(\"Please enter the name of the month you would like to know how many days it has in it? make sure you enter words not numbers.(e.g. January, Februrary \")\n",
    "a_ = u_month[0:3].capitalize()\n",
    "# case insensitivity control\n",
    "def check_month(a):\n",
    "    a = a_\n",
    "try:\n",
    "    if a_ in [\"Jan\", \"Mar\", \"May\", \"Jul\",\"Aug\",\"Oct\",\"Dec\"]:\n",
    "        print(\"It has 31 days\")\n",
    "    elif a_ in [\"Apr\",\"Jun\",\"Sep\",\"nov\"]:\n",
    "        print(\"It has 30 days\")\n",
    "    elif a_== \"Feb\":\n",
    "        print(\"It has 29 days\")\n",
    "    else:\n",
    "        print(\"Please enter a valid\")\n",
    "except:\n",
    "    print(\"Please enter a valid month\")\n"
   ],
   "metadata": {
    "collapsed": false,
    "ExecuteTime": {
     "start_time": "2024-02-07T04:39:56.199673800Z"
    }
   },
   "id": "5129357a06a07715",
   "execution_count": null
  },
  {
   "cell_type": "code",
   "outputs": [
    {
     "name": "stdout",
     "output_type": "stream",
     "text": [
      "It has 31 days\n"
     ]
    }
   ],
   "source": [
    "#aa = \"January\"\n",
    "u_month = input(\"Please enter the name of the month you would like to know how many days it has in it? make sure you enter words not numbers.(e.g. January, Februrary \")\n",
    "a_ = u_month[0:3].capitalize()\n",
    "# case insensitivity control\n",
    "try:\n",
    "    if a_ in [\"Jan\", \"Mar\", \"May\", \"Jul\",\"Aug\",\"Oct\",\"Dec\"]:\n",
    "        print(\"It has 31 days\")\n",
    "    elif a_ in [\"Apr\",\"Jun\",\"Sep\",\"nov\"]:\n",
    "        print(\"It has 30 days\")\n",
    "    elif a_== \"Feb\":\n",
    "        print(\"It has 29 days\")\n",
    "    else:\n",
    "        print(\"Please enter a valid\")\n",
    "except:\n",
    "    print(\"Please enter a valid month\")\n"
   ],
   "metadata": {
    "collapsed": false,
    "ExecuteTime": {
     "end_time": "2024-02-08T17:51:18.427329500Z",
     "start_time": "2024-02-08T17:51:07.743789700Z"
    }
   },
   "id": "d0a600febe7f9c93",
   "execution_count": 1
  },
  {
   "cell_type": "code",
   "outputs": [
    {
     "name": "stdout",
     "output_type": "stream",
     "text": [
      "Please enter a valid month\n"
     ]
    }
   ],
   "source": [
    "#bb = \"July\"\n",
    "u_month = input(\"Please enter the name of the month you would like to know how many days it has in it? make sure you enter words not numbers.(e.g. January, Februrary \")\n",
    "a_ = u_month[0:3].capitalize()\n",
    "# case insensitivity control\n",
    "try:\n",
    "    if a_ in [\"Jan\", \"Mar\", \"May\", \"Jul\",\"Aug\",\"Oct\",\"Dec\"]:\n",
    "        print(\"It has 31 days\")\n",
    "    elif a_ in [\"Apr\",\"Jun\",\"Sep\",\"nov\"]:\n",
    "        print(\"It has 30 days\")\n",
    "    elif a_== \"Feb\":\n",
    "        print(\"It has 29 days\")\n",
    "    else:\n",
    "        print(\"Please enter a valid month\")\n",
    "except:\n",
    "    print(\"Please enter a valid month\")\n"
   ],
   "metadata": {
    "collapsed": false,
    "ExecuteTime": {
     "end_time": "2024-02-08T17:52:11.559577700Z",
     "start_time": "2024-02-08T17:52:06.674623500Z"
    }
   },
   "id": "6cdd3e155ba35623",
   "execution_count": 3
  },
  {
   "cell_type": "code",
   "outputs": [
    {
     "name": "stdout",
     "output_type": "stream",
     "text": [
      "It has 29 days\n"
     ]
    }
   ],
   "source": [
    "#cc = \"Feb\"\n",
    "u_month = input(\"Please enter the name of the month you would like to know how many days it has in it? make sure you enter words not numbers.(e.g. January, Februrary \")\n",
    "a_ = u_month[0:3].capitalize()\n",
    "# case insensitivity control\n",
    "try:\n",
    "    if a_ in [\"Jan\", \"Mar\", \"May\", \"Jul\",\"Aug\",\"Oct\",\"Dec\"]:\n",
    "        print(\"It has 31 days\")\n",
    "    elif a_ in [\"Apr\",\"Jun\",\"Sep\",\"nov\"]:\n",
    "        print(\"It has 30 days\")\n",
    "    elif a_== \"Feb\":\n",
    "        print(\"It has 29 days\")\n",
    "    else:\n",
    "        print(\"Please enter a valid\")\n",
    "except:\n",
    "    print(\"Please enter a valid month\")\n"
   ],
   "metadata": {
    "collapsed": false,
    "ExecuteTime": {
     "end_time": "2024-02-07T04:55:31.841520600Z",
     "start_time": "2024-02-07T04:55:23.260993900Z"
    }
   },
   "id": "446d09153ea58d9a",
   "execution_count": 7
  },
  {
   "cell_type": "code",
   "outputs": [
    {
     "name": "stdout",
     "output_type": "stream",
     "text": [
      "It has 29 days\n"
     ]
    }
   ],
   "source": [
    "#dd = \"Summer\"\n",
    "u_month = input(\"Please enter the name of the month you would like to know how many days it has in it? make sure you enter words not numbers.(e.g. January, Februrary \")\n",
    "a_ = u_month[0:3].capitalize()\n",
    "# case insensitivity control\n",
    "\n",
    "try:\n",
    "    if a_ in [\"Jan\", \"Mar\", \"May\", \"Jul\",\"Aug\",\"Oct\",\"Dec\"]:\n",
    "        print(\"It has 31 days\")\n",
    "    elif a_ in [\"Apr\",\"Jun\",\"Sep\",\"nov\"]:\n",
    "        print(\"It has 30 days\")\n",
    "    elif a_== \"Feb\":\n",
    "        print(\"It has 29 days\")\n",
    "    else:\n",
    "        print(\"Please enter a valid\")\n",
    "except:\n",
    "    print(\"Please enter a valid month\")\n"
   ],
   "metadata": {
    "collapsed": false,
    "ExecuteTime": {
     "end_time": "2024-02-07T04:55:55.990251700Z",
     "start_time": "2024-02-07T04:55:43.887618700Z"
    }
   },
   "id": "a936a1a2113d7cb0",
   "execution_count": 8
  },
  {
   "cell_type": "code",
   "outputs": [
    {
     "name": "stdout",
     "output_type": "stream",
     "text": [
      "Please enter a valid\n"
     ]
    }
   ],
   "source": [
    "count = 0 \n",
    "max_value = 5\n",
    "while count < max_value:\n",
    "    count +=1\n",
    "    u_month = input(\"Please enter the name of the month you would like to know how many days it has in it? make sure you enter words not numbers.(e.g. January, Februrary \")\n",
    "    a_ = u_month[0:3].capitalize()\n",
    "    # case insensitivity control\n",
    "    try:\n",
    "        if a_ in [\"Jan\", \"Mar\", \"May\", \"Jul\",\"Aug\",\"Oct\",\"Dec\"]:\n",
    "            print(\"It has 31 days\")\n",
    "        elif a_ in [\"Apr\",\"Jun\",\"Sep\",\"nov\"]:\n",
    "            print(\"It has 30 days\")\n",
    "        elif a_== \"Feb\":\n",
    "            print(\"It has 29 days\")\n",
    "        else:\n",
    "            print(\"Please enter a valid\")\n",
    "    except:\n",
    "        print(\"Please enter a valid month\")\n",
    "        \n",
    "    if count == max_value:\n",
    "         print(\"you have reached the maximum number of tries!\")\n",
    "         exit()"
   ],
   "metadata": {
    "collapsed": false,
    "ExecuteTime": {
     "end_time": "2024-02-07T04:56:03.505091Z",
     "start_time": "2024-02-07T04:55:59.718164400Z"
    }
   },
   "id": "f2396c223f0665d5",
   "execution_count": 9
  },
  {
   "cell_type": "code",
   "outputs": [],
   "source": [],
   "metadata": {
    "collapsed": false
   },
   "id": "fef193758cb5cf0d"
  }
 ],
 "metadata": {
  "kernelspec": {
   "display_name": "Python 3",
   "language": "python",
   "name": "python3"
  },
  "language_info": {
   "codemirror_mode": {
    "name": "ipython",
    "version": 2
   },
   "file_extension": ".py",
   "mimetype": "text/x-python",
   "name": "python",
   "nbconvert_exporter": "python",
   "pygments_lexer": "ipython2",
   "version": "2.7.6"
  }
 },
 "nbformat": 4,
 "nbformat_minor": 5
}
