{
 "cells": [
  {
   "cell_type": "markdown",
   "source": [
    "INFO-B 210: Information Infrastructure I\n",
    "\n",
    "Assignment 3: Conditional Statements"
   ],
   "metadata": {
    "collapsed": false
   },
   "id": "f9fbae706f0bb75"
  },
  {
   "cell_type": "markdown",
   "source": [
    "1. Nearly all academic institutions across the United States utilize a grading system by which total scores are translated to a letter grade system: (A – F). The system utilized this course is available on the syllabus, as well as Lecture_1 slides. Write a program that will take ask the user to input their overall grade percentage, between 0 and 1, and then print the corresponding letter grade to the terminal. Be certain to check that the user provides appropriate input, and if they don’t, print an error message to the terminal. Your program will be evaluated using at least the following test cases.\n"
   ],
   "metadata": {
    "collapsed": false
   },
   "id": "8f28d53ed61da94e"
  },
  {
   "cell_type": "markdown",
   "source": [],
   "metadata": {
    "collapsed": false
   },
   "id": "3faae7000a7400e3"
  },
  {
   "cell_type": "code",
   "outputs": [
    {
     "ename": "IndentationError",
     "evalue": "unindent does not match any outer indentation level (<tokenize>, line 13)",
     "output_type": "error",
     "traceback": [
      "\u001B[1;36m  File \u001B[1;32m<tokenize>:13\u001B[1;36m\u001B[0m\n\u001B[1;33m    tries = tries + 1\u001B[0m\n\u001B[1;37m    ^\u001B[0m\n\u001B[1;31mIndentationError\u001B[0m\u001B[1;31m:\u001B[0m unindent does not match any outer indentation level\n"
     ]
    }
   ],
   "source": [
    "tries = 0\n",
    "max_tries = 5\n",
    "while tries < max_tries:\n",
    "    try:\n",
    "        user_grade = float(input(\"Please enter your overall grade percentage (between 0 and 1, inclusive): \"))\n",
    "        if 0 <= user_grade <= 1:\n",
    "            break\n",
    "        else:\n",
    "            print(\"Please enter a value between 0 and 1.\")\n",
    "            tries = tries + 1\n",
    "    except ValueError:\n",
    "        print(\"Invalid input. Please enter a valid numeric value.\")\n",
    "       tries = tries + 1\n",
    "if tries == max_tries:\n",
    "    print(\"you have reach the maximum numbers of tries, come back again tomorrow\")\n",
    "    exit()\n",
    "    \n",
    "def check_grade(grade):\n",
    "    if grade < 0 or grade > 1:\n",
    "        print(\"Invalid grade value. Please enter a value between 0 and 1.\")\n",
    "    else:\n",
    "        if grade >= 0.97:\n",
    "            print(\"Your grade is A+\")\n",
    "        elif grade >= 0.93:\n",
    "            print(\"Your grade is A\")\n",
    "        elif grade >= 0.90:\n",
    "            print(\"Your grade is A-\")\n",
    "        elif grade >= 0.87:\n",
    "            print(\"Your grade is B+\")\n",
    "        elif grade >= 0.83:\n",
    "            print(\"Your grade is B\")\n",
    "        elif grade >= 0.80:\n",
    "            print(\"Your grade is B-\")\n",
    "        elif grade >= 0.77:\n",
    "            print(\"Your grade is C+\")\n",
    "        elif grade >= 0.73:\n",
    "            print(\"Your grade is C\")\n",
    "        elif grade >= 0.70:\n",
    "            print(\"Your grade is C-\")\n",
    "        elif grade >= 0.67:\n",
    "            print(\"Your grade is D+\")\n",
    "        elif grade >= 0.63:\n",
    "            print(\"Your grade is D\")\n",
    "        elif grade >= 0.60:\n",
    "            print(\"Your grade is D-\")\n",
    "        else:\n",
    "            print(\"Your grade is F\")\n",
    "\n",
    "#check_grade(user_grade)\n"
   ],
   "metadata": {
    "collapsed": false,
    "ExecuteTime": {
     "end_time": "2024-02-07T04:39:56.078267700Z",
     "start_time": "2024-02-07T04:39:56.018869500Z"
    }
   },
   "id": "aeb6958304188f7",
   "execution_count": 52
  },
  {
   "cell_type": "code",
   "outputs": [
    {
     "name": "stdout",
     "output_type": "stream",
     "text": [
      "Your grade is C\n"
     ]
    }
   ],
   "source": [
    "check_grade(.75)"
   ],
   "metadata": {
    "collapsed": false,
    "ExecuteTime": {
     "end_time": "2024-02-07T04:39:56.080267400Z",
     "start_time": "2024-02-07T04:39:56.053336300Z"
    }
   },
   "id": "398136f41338b15d",
   "execution_count": 53
  },
  {
   "cell_type": "code",
   "outputs": [
    {
     "name": "stdout",
     "output_type": "stream",
     "text": [
      "Invalid grade value. Please enter a value between 0 and 1.\n"
     ]
    }
   ],
   "source": [
    "b =75\n",
    "check_grade(b)"
   ],
   "metadata": {
    "collapsed": false,
    "ExecuteTime": {
     "end_time": "2024-02-07T04:39:56.119655300Z",
     "start_time": "2024-02-07T04:39:56.084442900Z"
    }
   },
   "id": "6ee04ef023d97734",
   "execution_count": 54
  },
  {
   "cell_type": "code",
   "outputs": [
    {
     "name": "stdout",
     "output_type": "stream",
     "text": [
      "Your grade is B+\n"
     ]
    }
   ],
   "source": [
    "c =0.8995\n",
    "check_grade(c)"
   ],
   "metadata": {
    "collapsed": false,
    "ExecuteTime": {
     "end_time": "2024-02-07T04:39:56.149072500Z",
     "start_time": "2024-02-07T04:39:56.123066800Z"
    }
   },
   "id": "b79276e2e16952e3",
   "execution_count": 55
  },
  {
   "cell_type": "code",
   "outputs": [
    {
     "name": "stdout",
     "output_type": "stream",
     "text": [
      "Invalid grade value. Please enter a value between 0 and 1.\n"
     ]
    }
   ],
   "source": [
    "d =-0.25\n",
    "check_grade(d)"
   ],
   "metadata": {
    "collapsed": false,
    "ExecuteTime": {
     "end_time": "2024-02-07T04:39:56.183015700Z",
     "start_time": "2024-02-07T04:39:56.151688600Z"
    }
   },
   "id": "f1310dd7bd69597e",
   "execution_count": 56
  },
  {
   "cell_type": "code",
   "outputs": [
    {
     "ename": "TypeError",
     "evalue": "'<' not supported between instances of 'str' and 'int'",
     "output_type": "error",
     "traceback": [
      "\u001B[1;31m---------------------------------------------------------------------------\u001B[0m",
      "\u001B[1;31mTypeError\u001B[0m                                 Traceback (most recent call last)",
      "Cell \u001B[1;32mIn[57], line 2\u001B[0m\n\u001B[0;32m      1\u001B[0m e \u001B[38;5;241m=\u001B[39m\u001B[38;5;124m\"\u001B[39m\u001B[38;5;124mA\u001B[39m\u001B[38;5;124m\"\u001B[39m\n\u001B[1;32m----> 2\u001B[0m \u001B[43mcheck_grade\u001B[49m\u001B[43m(\u001B[49m\u001B[43me\u001B[49m\u001B[43m)\u001B[49m\n",
      "Cell \u001B[1;32mIn[14], line 60\u001B[0m, in \u001B[0;36mcheck_grade\u001B[1;34m(grade)\u001B[0m\n\u001B[0;32m     59\u001B[0m \u001B[38;5;28;01mdef\u001B[39;00m \u001B[38;5;21mcheck_grade\u001B[39m(grade):\n\u001B[1;32m---> 60\u001B[0m     \u001B[38;5;28;01mif\u001B[39;00m \u001B[43mgrade\u001B[49m\u001B[43m \u001B[49m\u001B[38;5;241;43m<\u001B[39;49m\u001B[43m \u001B[49m\u001B[38;5;241;43m0\u001B[39;49m \u001B[38;5;129;01mor\u001B[39;00m grade \u001B[38;5;241m>\u001B[39m \u001B[38;5;241m1\u001B[39m:\n\u001B[0;32m     61\u001B[0m         \u001B[38;5;28mprint\u001B[39m(\u001B[38;5;124m\"\u001B[39m\u001B[38;5;124mInvalid grade value. Please enter a value between 0 and 1.\u001B[39m\u001B[38;5;124m\"\u001B[39m)\n\u001B[0;32m     62\u001B[0m     \u001B[38;5;28;01melse\u001B[39;00m:\n",
      "\u001B[1;31mTypeError\u001B[0m: '<' not supported between instances of 'str' and 'int'"
     ]
    }
   ],
   "source": [
    "e =\"A\"\n",
    "check_grade(e)"
   ],
   "metadata": {
    "collapsed": false,
    "ExecuteTime": {
     "end_time": "2024-02-07T04:39:56.215588300Z",
     "start_time": "2024-02-07T04:39:56.167970300Z"
    }
   },
   "id": "ce728f6f1fae750f",
   "execution_count": 57
  },
  {
   "cell_type": "markdown",
   "source": [
    "2. The time it takes for one year on Earth is approximately 365 days. Most places around the world mark the passing of time using the Gregorian CalendarLinks to an external site., in which months are assigned 28, (29 sometimes), 30, and 31 days. Write a program that will ask the user to input the name of a month (provide format details) as input, and then print the expected number of days in that month in the year 2023 CE. Be certain to check the user provides appropriate input, and if they don’t, print an error message to the terminal. Your program will be evaluated using the least the following test cases."
   ],
   "metadata": {
    "collapsed": false
   },
   "id": "1dec5fd1b444d0f2"
  },
  {
   "cell_type": "code",
   "outputs": [],
   "source": [
    "u_month = input(\"Please enter the name of the month you would like to know how many days it has in it? make sure you enter words not numbers.(e.g. January, Februrary \")\n",
    "a_ = u_month[0:3].capitalize()\n",
    "# case insensitivity control\n",
    "try:\n",
    "    if a_ in [\"Jan\", \"Mar\", \"May\", \"Jul\",\"Aug\",\"Oct\",\"Dec\"]:\n",
    "        print(\"It has 31 days\")\n",
    "    elif a_ in [\"Apr\",\"Jun\",\"Sep\",\"nov\"]:\n",
    "        print(\"It has 30 days\")\n",
    "    elif a_== \"Feb\":\n",
    "        print(\"It has 29 days\")\n",
    "    else:\n",
    "        print(\"Please enter a valid\")\n",
    "except:\n",
    "    print(\"Please enter a valid month\")\n"
   ],
   "metadata": {
    "collapsed": false,
    "ExecuteTime": {
     "start_time": "2024-02-07T04:39:56.199673800Z"
    }
   },
   "id": "5129357a06a07715",
   "execution_count": null
  },
  {
   "cell_type": "code",
   "outputs": [],
   "source": [],
   "metadata": {
    "collapsed": false,
    "ExecuteTime": {
     "end_time": "2024-02-07T04:39:56.261583500Z",
     "start_time": "2024-02-07T04:39:56.219857700Z"
    }
   },
   "id": "d0a600febe7f9c93",
   "execution_count": 57
  },
  {
   "cell_type": "code",
   "outputs": [],
   "source": [],
   "metadata": {
    "collapsed": false,
    "ExecuteTime": {
     "end_time": "2024-02-07T04:39:56.263613400Z",
     "start_time": "2024-02-07T04:39:56.231684200Z"
    }
   },
   "id": "446d09153ea58d9a",
   "execution_count": 57
  }
 ],
 "metadata": {
  "kernelspec": {
   "display_name": "Python 3",
   "language": "python",
   "name": "python3"
  },
  "language_info": {
   "codemirror_mode": {
    "name": "ipython",
    "version": 2
   },
   "file_extension": ".py",
   "mimetype": "text/x-python",
   "name": "python",
   "nbconvert_exporter": "python",
   "pygments_lexer": "ipython2",
   "version": "2.7.6"
  }
 },
 "nbformat": 4,
 "nbformat_minor": 5
}
