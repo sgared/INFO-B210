{
 "cells": [
  {
   "cell_type": "markdown",
   "source": [
    "INFO-B 210: Information Infrastructure I\n",
    "Assignment 2: String Variables"
   ],
   "metadata": {
    "collapsed": false
   },
   "id": "afd5f9f9438c2271"
  },
  {
   "cell_type": "markdown",
   "source": [
    "### Purpose:\n",
    "The purpose of this assignment is to utilize python programming in practical setting to solve real world problems."
   ],
   "metadata": {
    "collapsed": false
   },
   "id": "b72ef13a7ab691fe"
  },
  {
   "cell_type": "markdown",
   "source": [
    "### Skills:\n",
    "In order to complete this assignment you will need to\n",
    "use critical thinking to write code to answer the questions\n",
    "\n",
    "practice Python fundamentals and best practices"
   ],
   "metadata": {
    "collapsed": false
   },
   "id": "969b4c590d1d0de5"
  },
  {
   "cell_type": "markdown",
   "source": [
    "### Knowledge:\n",
    "\n",
    "This assignment will help you gain the following:\n",
    "\n",
    "how to create and utilize string variables\n",
    "\n",
    "utilize string operators and indices"
   ],
   "metadata": {
    "collapsed": false
   },
   "id": "d8605652c4652069"
  },
  {
   "cell_type": "markdown",
   "source": [
    "### 1. Computer literacy is a standard in most elementary school grades in Indiana. This means that students as young as 5 have to be able to login and access their school’s computer network, including a username and password. To make this simple most schools create both usernames and passwords created from the student’s first name, middle name, last name, and parent’s phone number. Write a program that will generate a user name and password from the given information. The user name should consist of the first 6 letters of their last name, the first letter of their first name, and the first letter of their middle name. The password should be the first 2 letters of their first name, the first 3 (human) even letters of their middle name (as many as possible), and the last 4 numbers of their parent’s phone number. Be certain to print the student’s user name and password to the terminal."
   ],
   "metadata": {
    "collapsed": false
   },
   "id": "4c98ac23e196b513"
  },
  {
   "cell_type": "code",
   "outputs": [],
   "source": [
    "def user_name(last_name,first_name,middle_name):\n",
    "    userName = last_name[:6] + first_name[0] + (middle_name[0] if middle_name else '')\n",
    "    return userName\n",
    "\n",
    "def passWord(first_name,middle_name,parent_phone_number):\n",
    "    middle_name_length = len(middle_name)\n",
    "    if middle_name_length == 0:\n",
    "        result_mid = \"\" \n",
    "    elif middle_name_length % 2 == 0:\n",
    "        result_mid = middle_name[:3]\n",
    "    else:\n",
    "        result_mid = middle_name[::2]\n",
    "        \n",
    "    pass_word = first_name[:2] + result_mid + parent_phone_number[-4:]\n",
    "    return pass_word"
   ],
   "metadata": {
    "collapsed": false,
    "ExecuteTime": {
     "end_time": "2024-01-28T22:10:27.512543800Z",
     "start_time": "2024-01-28T22:10:27.452964500Z"
    }
   },
   "id": "7e4d4eee2b3b37b0",
   "execution_count": 120
  },
  {
   "cell_type": "markdown",
   "source": [
    "### a.Linus Benedict Torvalds, (317)-555-1969"
   ],
   "metadata": {
    "collapsed": false
   },
   "id": "f65085eafe535011"
  },
  {
   "cell_type": "code",
   "outputs": [
    {
     "name": "stdout",
     "output_type": "stream",
     "text": [
      "TorvalBL\n",
      "LiBen1969\n"
     ]
    }
   ],
   "source": [
    "a = user_name(\"Torvalds\",\"Benedict\",\"Linus\")\n",
    "a1 = passWord(\"Linus\",\"Benedict\",\"(317)555-1969\")\n",
    "print(a)\n",
    "print(a1)"
   ],
   "metadata": {
    "collapsed": false,
    "ExecuteTime": {
     "end_time": "2024-01-28T22:10:27.533238Z",
     "start_time": "2024-01-28T22:10:27.518195400Z"
    }
   },
   "id": "7c5c0946755070de",
   "execution_count": 122
  },
  {
   "cell_type": "markdown",
   "source": [
    "### b.Alan Mathison Turing, (317)-555-5346"
   ],
   "metadata": {
    "collapsed": false
   },
   "id": "bc141839b684f8ee"
  },
  {
   "cell_type": "code",
   "outputs": [
    {
     "name": "stdout",
     "output_type": "stream",
     "text": [
      "TuringAM\n",
      "AlMat5346\n"
     ]
    }
   ],
   "source": [
    "b = user_name(\"Turing\",\"Alan\",\"Mathison\")\n",
    "b1 = passWord(\"Alan\",\"Mathison\",\"(317)-555-5346\")\n",
    "print(b)\n",
    "print(b1)"
   ],
   "metadata": {
    "collapsed": false,
    "ExecuteTime": {
     "end_time": "2024-01-28T22:10:27.595412100Z",
     "start_time": "2024-01-28T22:10:27.548036100Z"
    }
   },
   "id": "81f5d9a50fde79c2",
   "execution_count": 124
  },
  {
   "cell_type": "markdown",
   "source": [
    "### c.Stephan Gary Wozniak, (317)-555-3720"
   ],
   "metadata": {
    "collapsed": false
   },
   "id": "edde507d0f513185"
  },
  {
   "cell_type": "code",
   "outputs": [
    {
     "name": "stdout",
     "output_type": "stream",
     "text": [
      "WozniaSG\n",
      "StGar3720\n"
     ]
    }
   ],
   "source": [
    "c = user_name(\"Wozniak\",\"Stephan\",\"Gary\")\n",
    "c1 = passWord(\"Stephan\",\"Gary\",\"(317)-555-3720\")\n",
    "print(c)\n",
    "print(c1)"
   ],
   "metadata": {
    "collapsed": false,
    "ExecuteTime": {
     "end_time": "2024-01-28T22:10:27.641143Z",
     "start_time": "2024-01-28T22:10:27.579915200Z"
    }
   },
   "id": "7becf972fbf06673",
   "execution_count": 126
  },
  {
   "cell_type": "markdown",
   "source": [
    "### d.Adele Goldberg, (317)-555-2345"
   ],
   "metadata": {
    "collapsed": false
   },
   "id": "c68f574d7ca694a1"
  },
  {
   "cell_type": "code",
   "outputs": [
    {
     "name": "stdout",
     "output_type": "stream",
     "text": [
      "GoldbeA\n",
      "Ad2345\n"
     ]
    }
   ],
   "source": [
    "d = user_name(\"Goldberg\",\"Adele\",\"\")\n",
    "d1 = passWord(\"Adele\",\"\",\"(317)-555-2345\")\n",
    "print(d)\n",
    "print(d1)"
   ],
   "metadata": {
    "collapsed": false,
    "ExecuteTime": {
     "end_time": "2024-01-28T22:10:27.646732200Z",
     "start_time": "2024-01-28T22:10:27.611568Z"
    }
   },
   "id": "f544ee3c0ec4e488",
   "execution_count": 128
  },
  {
   "cell_type": "markdown",
   "source": [
    "### 2. Pig Latin is a language game often played by adolescent children. The language uses English words as input, changes them into a new word, typically by extracting the first letter of the word, putting it at the end and adding the suffix “ay” to it. However, if the first letter is a vowel (a,e,i,o,u) instead, it uses moves everything up till the first consonant (non-vowel) to the end and then adds the “ay” suffix. Write a program that will take an English word as input, and output that word in Pig Latin. Print the Pig Latin word to the terminal."
   ],
   "metadata": {
    "collapsed": false
   },
   "id": "7d6272d642c728ba"
  },
  {
   "cell_type": "code",
   "outputs": [],
   "source": [
    "def pig_latin_conv(word):\n",
    "    first_letter = word[0]\n",
    "    result = \"\"\n",
    "    config = \"\"\n",
    "    if first_letter == \"a\" or first_letter == \"e\" or first_letter == \"i\" or first_letter == \"o\" or first_letter == \"u\": \n",
    "        result = word[1:] + \"ay\"\n",
    "    else:\n",
    "        config = word[0]\n",
    "        result = word[1:] + config + \"ay\"\n",
    "    return result"
   ],
   "metadata": {
    "collapsed": false,
    "ExecuteTime": {
     "end_time": "2024-01-28T22:10:27.694099100Z",
     "start_time": "2024-01-28T22:10:27.627835900Z"
    }
   },
   "id": "48fc39faa73423e2",
   "execution_count": 129
  },
  {
   "cell_type": "markdown",
   "source": [
    "### a. simple"
   ],
   "metadata": {
    "collapsed": false
   },
   "id": "73dffaf4b8ee7228"
  },
  {
   "cell_type": "code",
   "outputs": [
    {
     "name": "stdout",
     "output_type": "stream",
     "text": [
      "implesay\n"
     ]
    }
   ],
   "source": [
    "aa = pig_latin_conv(\"simple\")\n",
    "print(aa)"
   ],
   "metadata": {
    "collapsed": false,
    "ExecuteTime": {
     "end_time": "2024-01-28T22:10:27.739933300Z",
     "start_time": "2024-01-28T22:10:27.701817500Z"
    }
   },
   "id": "aafa7779e019943a",
   "execution_count": 131
  },
  {
   "cell_type": "markdown",
   "source": [
    "### b. friends"
   ],
   "metadata": {
    "collapsed": false
   },
   "id": "17018950b70bd085"
  },
  {
   "cell_type": "code",
   "outputs": [
    {
     "name": "stdout",
     "output_type": "stream",
     "text": [
      "riendsfay\n"
     ]
    }
   ],
   "source": [
    "bb = pig_latin_conv(\"friends\")\n",
    "print(bb)"
   ],
   "metadata": {
    "collapsed": false,
    "ExecuteTime": {
     "end_time": "2024-01-28T22:10:27.779312500Z",
     "start_time": "2024-01-28T22:10:27.735045600Z"
    }
   },
   "id": "33c970f675c918f8",
   "execution_count": 133
  },
  {
   "cell_type": "markdown",
   "source": [
    "### c. omelet"
   ],
   "metadata": {
    "collapsed": false
   },
   "id": "915af9f3baeb233f"
  },
  {
   "cell_type": "code",
   "outputs": [
    {
     "name": "stdout",
     "output_type": "stream",
     "text": [
      "meletay\n"
     ]
    }
   ],
   "source": [
    "cc = pig_latin_conv(\"omelet\")\n",
    "print(cc)"
   ],
   "metadata": {
    "collapsed": false,
    "ExecuteTime": {
     "end_time": "2024-01-28T22:10:27.782831600Z",
     "start_time": "2024-01-28T22:10:27.765674300Z"
    }
   },
   "id": "8495f2baaa6f779b",
   "execution_count": 135
  },
  {
   "cell_type": "markdown",
   "source": [
    "### d. ions"
   ],
   "metadata": {
    "collapsed": false
   },
   "id": "bc5b0a9243350a7"
  },
  {
   "cell_type": "code",
   "outputs": [
    {
     "name": "stdout",
     "output_type": "stream",
     "text": [
      "onsay\n"
     ]
    }
   ],
   "source": [
    "dd = pig_latin_conv(\"ions\")\n",
    "print(dd)"
   ],
   "metadata": {
    "collapsed": false,
    "ExecuteTime": {
     "end_time": "2024-01-28T22:10:27.823267500Z",
     "start_time": "2024-01-28T22:10:27.796369500Z"
    }
   },
   "id": "11ec0ad48b010d6a",
   "execution_count": 137
  }
 ],
 "metadata": {
  "kernelspec": {
   "display_name": "Python 3",
   "language": "python",
   "name": "python3"
  },
  "language_info": {
   "codemirror_mode": {
    "name": "ipython",
    "version": 2
   },
   "file_extension": ".py",
   "mimetype": "text/x-python",
   "name": "python",
   "nbconvert_exporter": "python",
   "pygments_lexer": "ipython2",
   "version": "2.7.6"
  }
 },
 "nbformat": 4,
 "nbformat_minor": 5
}
