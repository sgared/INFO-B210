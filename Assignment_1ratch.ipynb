{
 "cells": [
  {
   "cell_type": "markdown",
   "source": [
    "''INFO-B 210: Information Infrastructure I\n",
    "\n",
    "Assignment 1: Numeric Variables\n",
    "'''\n",
    "\n",
    "### Purpose:\n",
    "'''\n",
    "The purpose of this assignment is to utilize python programming in practical setting to solve real world problems.\n",
    "\n",
    "Skills:\n",
    "In order to complete this assignment you will need to\n",
    "\n",
    "use critical thinking to write code to answer the questions\n",
    "\n",
    "practice Python fundamentals and best practices\n",
    "'''\n",
    "\n",
    "### Knowledge:\n",
    "'''\n",
    "1. This assignment will help you gain the following:\n",
    "\n",
    "how to create and utilize numeric variables\n",
    "\n",
    "utilize mathematical operators '''"
   ],
   "metadata": {
    "collapsed": false
   },
   "id": "7633528e87de5ac0"
  },
  {
   "cell_type": "markdown",
   "source": [
    "I will be using the following functions. "
   ],
   "metadata": {
    "collapsed": false
   },
   "id": "64d3516f527dd0b8"
  },
  {
   "cell_type": "code",
   "outputs": [],
   "source": [
    "def cash_register(a, b):\n",
    "    change = a - b\n",
    "    return change"
   ],
   "metadata": {
    "collapsed": false,
    "ExecuteTime": {
     "end_time": "2024-01-28T03:55:04.911218Z",
     "start_time": "2024-01-28T03:55:04.889542400Z"
    }
   },
   "id": "e9a3890200172b07",
   "execution_count": 85
  },
  {
   "cell_type": "code",
   "outputs": [],
   "source": [
    "def cel_kel(a): \n",
    "    change = a + 273\n",
    "    return change"
   ],
   "metadata": {
    "collapsed": false,
    "ExecuteTime": {
     "end_time": "2024-01-28T03:55:04.923838400Z",
     "start_time": "2024-01-28T03:55:04.904109400Z"
    }
   },
   "id": "335aafb500e072e1",
   "execution_count": 86
  },
  {
   "cell_type": "code",
   "outputs": [],
   "source": [
    "def kel_fahr(a):\n",
    "    change = 9/ 5 *  (a - 273) + 32\n",
    "    return change"
   ],
   "metadata": {
    "collapsed": false,
    "ExecuteTime": {
     "end_time": "2024-01-28T03:55:04.948225500Z",
     "start_time": "2024-01-28T03:55:04.919851300Z"
    }
   },
   "id": "782ddc0027c401e1",
   "execution_count": 87
  },
  {
   "cell_type": "code",
   "outputs": [],
   "source": [
    "def fahr_cel(a):\n",
    "    change = 5/9  * (a - 32)\n",
    "    return change"
   ],
   "metadata": {
    "collapsed": false,
    "ExecuteTime": {
     "end_time": "2024-01-28T03:55:04.950577500Z",
     "start_time": "2024-01-28T03:55:04.934333Z"
    }
   },
   "id": "e9c39cf518ddbdce",
   "execution_count": 88
  },
  {
   "cell_type": "markdown",
   "source": [],
   "metadata": {
    "collapsed": false
   },
   "id": "c0a4d52c42ea383f"
  },
  {
   "cell_type": "markdown",
   "source": [
    "1. In the time before credit cards and electronic banking, stores often had to make change for customers. \n",
    "The modern United States Treasury uses 4 different coins for denominations less than 1 dollar quarters, dimes, nickles, \n",
    "and pennies each worth $0.25, $0.10, $0.05, and $0.01 respectively. Additionally, they issue dollars in denominations of \n",
    "$100, $50, $20, $10, $5, and $1. In the following problems, you will be given an amount tendered, and the total cost. \n",
    "Write a program that will determine the amount of change needed and \n",
    "the minimum amount of each of the dollar denominations and coins needed for the transaction. '''"
   ],
   "metadata": {
    "collapsed": false
   },
   "id": "5dd3c0cd8b1a3e78"
  },
  {
   "cell_type": "markdown",
   "source": [
    " ### a. $100 tendered, $36.57 cost"
   ],
   "metadata": {
    "collapsed": false
   },
   "id": "92b089f51f3079d8"
  },
  {
   "cell_type": "code",
   "outputs": [
    {
     "name": "stdout",
     "output_type": "stream",
     "text": [
      "63.43\n"
     ]
    }
   ],
   "source": [
    "result = cash_register(100, 36.57)\n",
    "print(result)"
   ],
   "metadata": {
    "collapsed": false,
    "ExecuteTime": {
     "end_time": "2024-01-28T03:55:04.985959700Z",
     "start_time": "2024-01-28T03:55:04.966423100Z"
    }
   },
   "id": "f42cb48b4f67a8ee",
   "execution_count": 90
  },
  {
   "cell_type": "markdown",
   "source": [
    "### b. $80 tendered, $64.09 cost"
   ],
   "metadata": {
    "collapsed": false
   },
   "id": "8b5d9957f29f6fb5"
  },
  {
   "cell_type": "code",
   "outputs": [
    {
     "name": "stdout",
     "output_type": "stream",
     "text": [
      "15.91\n"
     ]
    }
   ],
   "source": [
    "result1 = cash_register(80, 64.09)\n",
    "print(round(result1,2))\n"
   ],
   "metadata": {
    "collapsed": false,
    "ExecuteTime": {
     "end_time": "2024-01-28T04:00:24.516564400Z",
     "start_time": "2024-01-28T04:00:24.492951600Z"
    }
   },
   "id": "74147f6139318710",
   "execution_count": 103
  },
  {
   "cell_type": "markdown",
   "source": [
    "### c. $10 tendered, $3.81 cost"
   ],
   "metadata": {
    "collapsed": false
   },
   "id": "a8d86f8915390c2e"
  },
  {
   "cell_type": "code",
   "outputs": [
    {
     "name": "stdout",
     "output_type": "stream",
     "text": [
      "6.19\n"
     ]
    }
   ],
   "source": [
    "result2 = cash_register(10, 3.81)\n",
    "print(round(result2,2))"
   ],
   "metadata": {
    "collapsed": false,
    "ExecuteTime": {
     "end_time": "2024-01-28T04:00:08.547543Z",
     "start_time": "2024-01-28T04:00:08.521998Z"
    }
   },
   "id": "c661dd1c36249425",
   "execution_count": 102
  },
  {
   "cell_type": "markdown",
   "source": [
    "### d. $50 tendered, $14.36 cost"
   ],
   "metadata": {
    "collapsed": false
   },
   "id": "5dd968e044b1734a"
  },
  {
   "cell_type": "code",
   "outputs": [
    {
     "name": "stdout",
     "output_type": "stream",
     "text": [
      "35.64\n"
     ]
    }
   ],
   "source": [
    "result3 = cash_register(50, 14.36)\n",
    "print(round(result3,2))"
   ],
   "metadata": {
    "collapsed": false,
    "ExecuteTime": {
     "end_time": "2024-01-28T04:06:45.075017100Z",
     "start_time": "2024-01-28T04:06:45.032844600Z"
    }
   },
   "id": "16f001fca22074c6",
   "execution_count": 105
  },
  {
   "cell_type": "markdown",
   "source": [
    "2.Around the world there are 3 commonly used scales used for measuring temperature, \n",
    "Celsius, Kelvin, and Fahrenheit. In the following problems you will be given a temperature in one scale, \n",
    "and a different scale. Write a program that will calculate the temperature for the given scale. \n",
    "Consider the following link for formulas converting between temperature scales: https://www.thoughtco.com/temperature-conversion-formulas-609324Links to an external site.\n",
    "'''"
   ],
   "metadata": {
    "collapsed": false
   },
   "id": "72b1f16222437abe"
  },
  {
   "cell_type": "markdown",
   "source": [
    "## a. 98.6°F, Celsius"
   ],
   "metadata": {
    "collapsed": false
   },
   "id": "36e8e8306c9fb2ac"
  },
  {
   "cell_type": "code",
   "outputs": [
    {
     "name": "stdout",
     "output_type": "stream",
     "text": [
      "37.0\n"
     ]
    }
   ],
   "source": [
    "temp = fahr_cel(98.6)\n",
    "print(temp)"
   ],
   "metadata": {
    "collapsed": false,
    "ExecuteTime": {
     "end_time": "2024-01-28T03:55:05.143369500Z",
     "start_time": "2024-01-28T03:55:05.092749800Z"
    }
   },
   "id": "111766cde1ccd1cc",
   "execution_count": 97
  },
  {
   "cell_type": "markdown",
   "source": [
    "### b. 329.7 Kelvin, Fahrenheit"
   ],
   "metadata": {
    "collapsed": false
   },
   "id": "663ba7dce52384fc"
  },
  {
   "cell_type": "code",
   "outputs": [
    {
     "name": "stdout",
     "output_type": "stream",
     "text": [
      "134.06\n"
     ]
    }
   ],
   "source": [
    "temp1 = kel_fahr(329.7)\n",
    "print(temp1)"
   ],
   "metadata": {
    "collapsed": false,
    "ExecuteTime": {
     "end_time": "2024-01-28T03:56:20.767798500Z",
     "start_time": "2024-01-28T03:56:20.725836400Z"
    }
   },
   "id": "dccaec0b5feaa982",
   "execution_count": 98
  },
  {
   "cell_type": "markdown",
   "source": [
    "### c. -60.9°C, Kelvin"
   ],
   "metadata": {
    "collapsed": false
   },
   "id": "813f4aef5ed906c6"
  },
  {
   "cell_type": "code",
   "outputs": [
    {
     "name": "stdout",
     "output_type": "stream",
     "text": [
      "212.1\n"
     ]
    }
   ],
   "source": [
    "temp2 = cel_kel(-60.9)\n",
    "print(temp2)"
   ],
   "metadata": {
    "collapsed": false,
    "ExecuteTime": {
     "end_time": "2024-01-28T03:57:17.262173400Z",
     "start_time": "2024-01-28T03:57:17.241459Z"
    }
   },
   "id": "725eb824e3c74854",
   "execution_count": 99
  },
  {
   "cell_type": "code",
   "outputs": [],
   "source": [],
   "metadata": {
    "collapsed": false
   },
   "id": "18ee1e5ae00683d6"
  }
 ],
 "metadata": {
  "kernelspec": {
   "display_name": "Python 3",
   "language": "python",
   "name": "python3"
  },
  "language_info": {
   "codemirror_mode": {
    "name": "ipython",
    "version": 2
   },
   "file_extension": ".py",
   "mimetype": "text/x-python",
   "name": "python",
   "nbconvert_exporter": "python",
   "pygments_lexer": "ipython2",
   "version": "2.7.6"
  }
 },
 "nbformat": 4,
 "nbformat_minor": 5
}
